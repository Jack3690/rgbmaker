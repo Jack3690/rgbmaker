{
 "cells": [
  {
   "cell_type": "markdown",
   "id": "70ae253f",
   "metadata": {},
   "source": [
    "# Introduction"
   ]
  },
  {
   "cell_type": "markdown",
   "id": "8f1c60e6",
   "metadata": {},
   "source": [
    "A brief description of the parameters is listed  here:\n",
    "\n",
    "\n",
    "- PARAMETERS\n",
    "\n",
    "     - name = your name, default = 'Anonymous'\n",
    "     - position = 'objName', 'RA DEC '\n",
    "     - imagesopt = 1,default=2\n",
    "     - radius = float_value='0.1' - '2.0'\n",
    "     - kind = 'jpg/png', 'plot', default='base64'"
   ]
  },
  {
   "cell_type": "code",
   "execution_count": null,
   "id": "1e9f1b54",
   "metadata": {},
   "outputs": [],
   "source": [
    "from rgbmaker.fetch import query\n",
    "\n",
    "\n",
    "help(query)"
   ]
  },
  {
   "cell_type": "markdown",
   "id": "f710b603",
   "metadata": {},
   "source": [
    "# Example"
   ]
  },
  {
   "cell_type": "markdown",
   "id": "a6a18b3c",
   "metadata": {},
   "source": [
    "- Making a composite plot having catalog plots and contours of TGSS, NVSS, VLA FIRST"
   ]
  },
  {
   "cell_type": "code",
   "execution_count": null,
   "id": "63659765",
   "metadata": {},
   "outputs": [],
   "source": [
    "query('Avi', 'speca', kind='plot')"
   ]
  },
  {
   "cell_type": "markdown",
   "id": "546aebb2",
   "metadata": {},
   "source": [
    "- Making plots of ROR, IOU and Optical visible with TGSS and NVSS contours"
   ]
  },
  {
   "cell_type": "code",
   "execution_count": null,
   "id": "e84f1b56",
   "metadata": {},
   "outputs": [],
   "source": [
    "query(name='Avi', position='speca', radius=0.12 , kind='plot', imagesopt=1)"
   ]
  }
 ],
 "metadata": {
  "kernelspec": {
   "display_name": "Python 3 (ipykernel)",
   "language": "python",
   "name": "python3"
  },
  "language_info": {
   "codemirror_mode": {
    "name": "ipython",
    "version": 3
   },
   "file_extension": ".py",
   "mimetype": "text/x-python",
   "name": "python",
   "nbconvert_exporter": "python",
   "pygments_lexer": "ipython3",
   "version": "3.8.2"
  },
  "varInspector": {
   "cols": {
    "lenName": 16,
    "lenType": 16,
    "lenVar": 40
   },
   "kernels_config": {
    "python": {
     "delete_cmd_postfix": "",
     "delete_cmd_prefix": "del ",
     "library": "var_list.py",
     "varRefreshCmd": "print(var_dic_list())"
    },
    "r": {
     "delete_cmd_postfix": ") ",
     "delete_cmd_prefix": "rm(",
     "library": "var_list.r",
     "varRefreshCmd": "cat(var_dic_list()) "
    }
   },
   "types_to_exclude": [
    "module",
    "function",
    "builtin_function_or_method",
    "instance",
    "_Feature"
   ],
   "window_display": false
  }
 },
 "nbformat": 4,
 "nbformat_minor": 5
}
